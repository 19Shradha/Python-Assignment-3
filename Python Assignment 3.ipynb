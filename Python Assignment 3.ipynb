{
 "cells": [
  {
   "cell_type": "code",
   "execution_count": 1,
   "id": "74a7a42c",
   "metadata": {},
   "outputs": [],
   "source": [
    "def myreduce(a):\n",
    "    n=len(a)\n",
    "    sum=0\n",
    "    i=0\n",
    "    while i<n:\n",
    "        if n%2==0:\n",
    "            sum=sum+a[i]\n",
    "            i+=1\n",
    "        elif n%2!=0:\n",
    "            print(\"cant perform the reduce operation\")\n",
    "            break\n",
    "    print(sum)        "
   ]
  },
  {
   "cell_type": "code",
   "execution_count": 2,
   "id": "9b42bc6b",
   "metadata": {},
   "outputs": [
    {
     "name": "stdout",
     "output_type": "stream",
     "text": [
      "36\n"
     ]
    }
   ],
   "source": [
    "s=myreduce([1,2,3,4,5,6,7,8])"
   ]
  },
  {
   "cell_type": "code",
   "execution_count": 17,
   "id": "7f17b6e0",
   "metadata": {},
   "outputs": [],
   "source": [
    "\n",
    "def filter(score):\n",
    "    filtered=[]\n",
    "    nonfiltered=[]\n",
    "    for i in score:\n",
    "        if i >=30:\n",
    "            filtered.append(i)\n",
    "        else:\n",
    "            nonfiltered.append(i)\n",
    "    print(filtered)        \n",
    "    print(nonfiltered)"
   ]
  },
  {
   "cell_type": "code",
   "execution_count": 18,
   "id": "31bf662c",
   "metadata": {},
   "outputs": [
    {
     "name": "stdout",
     "output_type": "stream",
     "text": [
      "[30, 40, 50, 65, 78, 95]\n",
      "[10, 20, 23]\n"
     ]
    }
   ],
   "source": [
    "ab=filter([10,20,30,40,50,65,78,95,23])"
   ]
  },
  {
   "cell_type": "code",
   "execution_count": null,
   "id": "0a0709c7",
   "metadata": {},
   "outputs": [],
   "source": []
  },
  {
   "cell_type": "code",
   "execution_count": null,
   "id": "a59bbdc5",
   "metadata": {},
   "outputs": [],
   "source": []
  },
  {
   "cell_type": "code",
   "execution_count": null,
   "id": "0a04dfb4",
   "metadata": {},
   "outputs": [],
   "source": []
  },
  {
   "cell_type": "code",
   "execution_count": null,
   "id": "cbd50d67",
   "metadata": {},
   "outputs": [],
   "source": []
  },
  {
   "cell_type": "code",
   "execution_count": 5,
   "id": "ca217399",
   "metadata": {},
   "outputs": [
    {
     "name": "stdout",
     "output_type": "stream",
     "text": [
      "['x', 'xx', 'xxx', 'xxxx', 'y', 'yy', 'yyy', 'yyyy', 'z', 'zz', 'zzz', 'zzzz']\n"
     ]
    }
   ],
   "source": [
    "x=['x','y','z']\n",
    "y=[item*num for item in x for num in range(1,5)]\n",
    "print(str(y))"
   ]
  },
  {
   "cell_type": "code",
   "execution_count": 6,
   "id": "2bc49034",
   "metadata": {},
   "outputs": [
    {
     "name": "stdout",
     "output_type": "stream",
     "text": [
      "['x', 'y', 'z', 'xx', 'yy', 'zz', 'xxx', 'yyy', 'zzz', 'xxxx', 'yyyy', 'zzzz']\n"
     ]
    }
   ],
   "source": [
    "x1=['x','y','z']\n",
    "y1=[item*num for num in range(1,5) for item in x1]\n",
    "print(str(y1))"
   ]
  },
  {
   "cell_type": "code",
   "execution_count": 12,
   "id": "6fd28e36",
   "metadata": {},
   "outputs": [
    {
     "name": "stdout",
     "output_type": "stream",
     "text": [
      "[[2, 3, 4, 5], [3, 4, 5, 6], [4, 5, 6, 7], [5, 6, 7, 8]]\n"
     ]
    }
   ],
   "source": [
    "x2=[2,3,4,5]\n",
    "y2=[[item+num for item in x2]for num in range(0,4)]\n",
    "print(str(y2))"
   ]
  },
  {
   "cell_type": "code",
   "execution_count": 17,
   "id": "b80178ae",
   "metadata": {},
   "outputs": [
    {
     "name": "stdout",
     "output_type": "stream",
     "text": [
      "[[2], [3], [4], [5], [3], [4], [5], [6], [4], [5], [6], [7]]\n"
     ]
    }
   ],
   "source": [
    "x3=[2,3,4]\n",
    "y3=[[item+num]for item in x3 for num in range(0,4)]\n",
    "print(y3)"
   ]
  },
  {
   "cell_type": "code",
   "execution_count": 16,
   "id": "12ad7404",
   "metadata": {},
   "outputs": [
    {
     "name": "stdout",
     "output_type": "stream",
     "text": [
      "[(1, 1), (1, 2), (1, 3), (2, 1), (2, 2), (2, 3), (3, 1), (3, 2), (3, 3)]\n"
     ]
    }
   ],
   "source": [
    "a=[1,2,3]\n",
    "b=[(item,num)for item in a for num in range(1,4)]\n",
    "print(b)"
   ]
  },
  {
   "cell_type": "code",
   "execution_count": null,
   "id": "a8b4f12a",
   "metadata": {},
   "outputs": [],
   "source": []
  }
 ],
 "metadata": {
  "kernelspec": {
   "display_name": "Python 3",
   "language": "python",
   "name": "python3"
  },
  "language_info": {
   "codemirror_mode": {
    "name": "ipython",
    "version": 3
   },
   "file_extension": ".py",
   "mimetype": "text/x-python",
   "name": "python",
   "nbconvert_exporter": "python",
   "pygments_lexer": "ipython3",
   "version": "3.8.8"
  }
 },
 "nbformat": 4,
 "nbformat_minor": 5
}
